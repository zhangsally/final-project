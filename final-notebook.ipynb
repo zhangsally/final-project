{
 "cells": [
  {
   "cell_type": "markdown",
   "metadata": {},
   "source": [
    "# **City of Pittsburgh Best Neighborhood**\n",
    "---\n",
    "** main introduction goes here"
   ]
  },
  {
   "cell_type": "markdown",
   "metadata": {},
   "source": [
    "## Community/cultural development: Public Art\n",
    "---"
   ]
  },
  {
   "cell_type": "markdown",
   "metadata": {},
   "source": [
    "In order to measure the community/cultural development of a neighborhood, public art was used as a determining factor. A neighborhood may be classified as \"better\" the more public art, and thus community involvement, it has. Since public art is for enjoyment and expression within the community, it creates a sense of belonging within the people, as well as bringing different cultures and expressions together. Usually, places where there are a lot of art are relatively developed and well off because it means a lot of people are comfortable expressing themselves, are inspired to create, and community relations are good."
   ]
  },
  {
   "cell_type": "markdown",
   "metadata": {},
   "source": [
    "### Public Art Analysis\n",
    "---"
   ]
  },
  {
   "cell_type": "markdown",
   "metadata": {},
   "source": [
    "To begin, I import pandas and access the relevant datasets. I start with art.csv to keep track of which neighborhoods had public art, and neighborhoods.csv to catalog every neighborhood in Pittsburgh."
   ]
  },
  {
   "cell_type": "code",
   "execution_count": 3,
   "metadata": {},
   "outputs": [],
   "source": [
    "import pandas as pd\n",
    "\n",
    "# access data sets\n",
    "art = pd.read_csv(\"art.csv\")\n",
    "neighborhoods = pd.read_csv(\"neighborhoods.csv\")"
   ]
  },
  {
   "cell_type": "code",
   "execution_count": 3,
   "metadata": {},
   "outputs": [
    {
     "data": {
      "text/html": [
       "<div>\n",
       "<style scoped>\n",
       "    .dataframe tbody tr th:only-of-type {\n",
       "        vertical-align: middle;\n",
       "    }\n",
       "\n",
       "    .dataframe tbody tr th {\n",
       "        vertical-align: top;\n",
       "    }\n",
       "\n",
       "    .dataframe thead th {\n",
       "        text-align: right;\n",
       "    }\n",
       "</style>\n",
       "<table border=\"1\" class=\"dataframe\">\n",
       "  <thead>\n",
       "    <tr style=\"text-align: right;\">\n",
       "      <th></th>\n",
       "      <th>_id</th>\n",
       "      <th>id</th>\n",
       "      <th>name</th>\n",
       "      <th>title</th>\n",
       "      <th>artist_name</th>\n",
       "      <th>art_type</th>\n",
       "      <th>park</th>\n",
       "      <th>image</th>\n",
       "      <th>neighborhood</th>\n",
       "      <th>council_district</th>\n",
       "      <th>ward</th>\n",
       "      <th>tract</th>\n",
       "      <th>public_works_division</th>\n",
       "      <th>pli_division</th>\n",
       "      <th>police_zone</th>\n",
       "      <th>fire_zone</th>\n",
       "      <th>latitude</th>\n",
       "      <th>longitude</th>\n",
       "    </tr>\n",
       "  </thead>\n",
       "  <tbody>\n",
       "    <tr>\n",
       "      <th>0</th>\n",
       "      <td>1</td>\n",
       "      <td>812728309</td>\n",
       "      <td>1001</td>\n",
       "      <td>Oakwood Road Monument</td>\n",
       "      <td>NaN</td>\n",
       "      <td>NaN</td>\n",
       "      <td>NaN</td>\n",
       "      <td>NaN</td>\n",
       "      <td>Oakwood</td>\n",
       "      <td>2.0</td>\n",
       "      <td>28.0</td>\n",
       "      <td>4.200356e+10</td>\n",
       "      <td>5.0</td>\n",
       "      <td>28.0</td>\n",
       "      <td>6.0</td>\n",
       "      <td>1-19</td>\n",
       "      <td>40.429192</td>\n",
       "      <td>-80.066225</td>\n",
       "    </tr>\n",
       "    <tr>\n",
       "      <th>1</th>\n",
       "      <td>2</td>\n",
       "      <td>188255168</td>\n",
       "      <td>1002</td>\n",
       "      <td>Rooster Waiting For The Streetcar</td>\n",
       "      <td>James Simon</td>\n",
       "      <td>Modern and Contemporary Art</td>\n",
       "      <td>NaN</td>\n",
       "      <td>NaN</td>\n",
       "      <td>Elliott</td>\n",
       "      <td>2.0</td>\n",
       "      <td>20.0</td>\n",
       "      <td>4.200356e+10</td>\n",
       "      <td>5.0</td>\n",
       "      <td>20.0</td>\n",
       "      <td>6.0</td>\n",
       "      <td>1-17</td>\n",
       "      <td>40.442926</td>\n",
       "      <td>-80.039711</td>\n",
       "    </tr>\n",
       "    <tr>\n",
       "      <th>2</th>\n",
       "      <td>3</td>\n",
       "      <td>2032091917</td>\n",
       "      <td>129</td>\n",
       "      <td>Middle East Memorial Plaque</td>\n",
       "      <td>NaN</td>\n",
       "      <td>War Memorials</td>\n",
       "      <td>NaN</td>\n",
       "      <td>NaN</td>\n",
       "      <td>Central Business District</td>\n",
       "      <td>6.0</td>\n",
       "      <td>1.0</td>\n",
       "      <td>4.200302e+10</td>\n",
       "      <td>6.0</td>\n",
       "      <td>1.0</td>\n",
       "      <td>2.0</td>\n",
       "      <td>1-4</td>\n",
       "      <td>40.438092</td>\n",
       "      <td>-79.996852</td>\n",
       "    </tr>\n",
       "    <tr>\n",
       "      <th>3</th>\n",
       "      <td>4</td>\n",
       "      <td>1447629273</td>\n",
       "      <td>143</td>\n",
       "      <td>L'Enfant</td>\n",
       "      <td>Paul Roger-Bloche</td>\n",
       "      <td>Historic Art</td>\n",
       "      <td>NaN</td>\n",
       "      <td>NaN</td>\n",
       "      <td>Carrick</td>\n",
       "      <td>4.0</td>\n",
       "      <td>29.0</td>\n",
       "      <td>4.200329e+10</td>\n",
       "      <td>3.0</td>\n",
       "      <td>29.0</td>\n",
       "      <td>3.0</td>\n",
       "      <td>4-23</td>\n",
       "      <td>40.388748</td>\n",
       "      <td>-79.986497</td>\n",
       "    </tr>\n",
       "    <tr>\n",
       "      <th>4</th>\n",
       "      <td>5</td>\n",
       "      <td>1935017944</td>\n",
       "      <td>148</td>\n",
       "      <td>Veterans Memorial (Brookline)</td>\n",
       "      <td>NaN</td>\n",
       "      <td>War Memorials</td>\n",
       "      <td>Brookline Monument</td>\n",
       "      <td>NaN</td>\n",
       "      <td>Brookline</td>\n",
       "      <td>4.0</td>\n",
       "      <td>19.0</td>\n",
       "      <td>4.200319e+10</td>\n",
       "      <td>5.0</td>\n",
       "      <td>19.0</td>\n",
       "      <td>6.0</td>\n",
       "      <td>4-26</td>\n",
       "      <td>40.391721</td>\n",
       "      <td>-80.016981</td>\n",
       "    </tr>\n",
       "  </tbody>\n",
       "</table>\n",
       "</div>"
      ],
      "text/plain": [
       "   _id          id  name                              title  \\\n",
       "0    1   812728309  1001              Oakwood Road Monument   \n",
       "1    2   188255168  1002  Rooster Waiting For The Streetcar   \n",
       "2    3  2032091917   129        Middle East Memorial Plaque   \n",
       "3    4  1447629273   143                           L'Enfant   \n",
       "4    5  1935017944   148      Veterans Memorial (Brookline)   \n",
       "\n",
       "         artist_name                     art_type                park image  \\\n",
       "0                NaN                          NaN                 NaN   NaN   \n",
       "1        James Simon  Modern and Contemporary Art                 NaN   NaN   \n",
       "2                NaN                War Memorials                 NaN   NaN   \n",
       "3  Paul Roger-Bloche                 Historic Art                 NaN   NaN   \n",
       "4                NaN                War Memorials  Brookline Monument   NaN   \n",
       "\n",
       "                neighborhood  council_district  ward         tract  \\\n",
       "0                    Oakwood               2.0  28.0  4.200356e+10   \n",
       "1                    Elliott               2.0  20.0  4.200356e+10   \n",
       "2  Central Business District               6.0   1.0  4.200302e+10   \n",
       "3                    Carrick               4.0  29.0  4.200329e+10   \n",
       "4                  Brookline               4.0  19.0  4.200319e+10   \n",
       "\n",
       "   public_works_division  pli_division  police_zone fire_zone   latitude  \\\n",
       "0                    5.0          28.0          6.0      1-19  40.429192   \n",
       "1                    5.0          20.0          6.0      1-17  40.442926   \n",
       "2                    6.0           1.0          2.0       1-4  40.438092   \n",
       "3                    3.0          29.0          3.0      4-23  40.388748   \n",
       "4                    5.0          19.0          6.0      4-26  40.391721   \n",
       "\n",
       "   longitude  \n",
       "0 -80.066225  \n",
       "1 -80.039711  \n",
       "2 -79.996852  \n",
       "3 -79.986497  \n",
       "4 -80.016981  "
      ]
     },
     "execution_count": 3,
     "metadata": {},
     "output_type": "execute_result"
    }
   ],
   "source": [
    "# display art\n",
    "art.head()"
   ]
  },
  {
   "cell_type": "code",
   "execution_count": 4,
   "metadata": {},
   "outputs": [
    {
     "data": {
      "text/html": [
       "<div>\n",
       "<style scoped>\n",
       "    .dataframe tbody tr th:only-of-type {\n",
       "        vertical-align: middle;\n",
       "    }\n",
       "\n",
       "    .dataframe tbody tr th {\n",
       "        vertical-align: top;\n",
       "    }\n",
       "\n",
       "    .dataframe thead th {\n",
       "        text-align: right;\n",
       "    }\n",
       "</style>\n",
       "<table border=\"1\" class=\"dataframe\">\n",
       "  <thead>\n",
       "    <tr style=\"text-align: right;\">\n",
       "      <th></th>\n",
       "      <th>_id</th>\n",
       "      <th>objectid</th>\n",
       "      <th>fid_blockg</th>\n",
       "      <th>statefp10</th>\n",
       "      <th>countyfp10</th>\n",
       "      <th>tractce10</th>\n",
       "      <th>blkgrpce10</th>\n",
       "      <th>geoid10</th>\n",
       "      <th>namelsad10</th>\n",
       "      <th>mtfcc10</th>\n",
       "      <th>...</th>\n",
       "      <th>page_number</th>\n",
       "      <th>plannerassign</th>\n",
       "      <th>globalid</th>\n",
       "      <th>created_user</th>\n",
       "      <th>created_date</th>\n",
       "      <th>last_edited_user</th>\n",
       "      <th>last_edited_date</th>\n",
       "      <th>temp</th>\n",
       "      <th>shape_area</th>\n",
       "      <th>shape_length</th>\n",
       "    </tr>\n",
       "  </thead>\n",
       "  <tbody>\n",
       "    <tr>\n",
       "      <th>0</th>\n",
       "      <td>2740</td>\n",
       "      <td>1</td>\n",
       "      <td>233</td>\n",
       "      <td>42</td>\n",
       "      <td>003</td>\n",
       "      <td>140500</td>\n",
       "      <td>3</td>\n",
       "      <td>420031405003</td>\n",
       "      <td>Block Group 3</td>\n",
       "      <td>G5030</td>\n",
       "      <td>...</td>\n",
       "      <td>15</td>\n",
       "      <td>Adriana Bowman</td>\n",
       "      <td>a642a6b6-a2a9-48d5-acf2-3e2ce87d4bc0</td>\n",
       "      <td>SDE</td>\n",
       "      <td>2020-08-14T12:57:28</td>\n",
       "      <td>SDE</td>\n",
       "      <td>2020-08-14T13:02:13</td>\n",
       "      <td>NaN</td>\n",
       "      <td>8.417066e+06</td>\n",
       "      <td>14181.728231</td>\n",
       "    </tr>\n",
       "    <tr>\n",
       "      <th>1</th>\n",
       "      <td>2741</td>\n",
       "      <td>2</td>\n",
       "      <td>203</td>\n",
       "      <td>42</td>\n",
       "      <td>003</td>\n",
       "      <td>140100</td>\n",
       "      <td>3</td>\n",
       "      <td>420031401003</td>\n",
       "      <td>Block Group 3</td>\n",
       "      <td>G5030</td>\n",
       "      <td>...</td>\n",
       "      <td>15</td>\n",
       "      <td>Christian Umbach</td>\n",
       "      <td>20d4605b-258e-441a-a57e-a28fdabb6d30</td>\n",
       "      <td>SDE</td>\n",
       "      <td>2020-08-14T12:57:28</td>\n",
       "      <td>SDE</td>\n",
       "      <td>2020-08-14T13:02:41</td>\n",
       "      <td>NaN</td>\n",
       "      <td>3.410838e+07</td>\n",
       "      <td>30326.729782</td>\n",
       "    </tr>\n",
       "    <tr>\n",
       "      <th>2</th>\n",
       "      <td>2742</td>\n",
       "      <td>3</td>\n",
       "      <td>86</td>\n",
       "      <td>42</td>\n",
       "      <td>003</td>\n",
       "      <td>101700</td>\n",
       "      <td>2</td>\n",
       "      <td>420031017002</td>\n",
       "      <td>Block Group 2</td>\n",
       "      <td>G5030</td>\n",
       "      <td>...</td>\n",
       "      <td>15</td>\n",
       "      <td>Keith Portugal</td>\n",
       "      <td>bf4065e7-c29c-48bd-b529-e7fd99077238</td>\n",
       "      <td>SDE</td>\n",
       "      <td>2020-08-14T12:57:28</td>\n",
       "      <td>SDE</td>\n",
       "      <td>2020-08-14T12:59:55</td>\n",
       "      <td>NaN</td>\n",
       "      <td>1.275115e+07</td>\n",
       "      <td>14577.426320</td>\n",
       "    </tr>\n",
       "    <tr>\n",
       "      <th>3</th>\n",
       "      <td>2743</td>\n",
       "      <td>4</td>\n",
       "      <td>214</td>\n",
       "      <td>42</td>\n",
       "      <td>003</td>\n",
       "      <td>050900</td>\n",
       "      <td>1</td>\n",
       "      <td>420030509001</td>\n",
       "      <td>Block Group 1</td>\n",
       "      <td>G5030</td>\n",
       "      <td>...</td>\n",
       "      <td>15</td>\n",
       "      <td>Ose Akinlotan</td>\n",
       "      <td>fed3fb32-0cd3-4556-aa41-17ee03b4fe41</td>\n",
       "      <td>SDE</td>\n",
       "      <td>2020-08-14T12:57:28</td>\n",
       "      <td>SDE</td>\n",
       "      <td>2020-08-14T12:58:41</td>\n",
       "      <td>NaN</td>\n",
       "      <td>4.897512e+06</td>\n",
       "      <td>13941.514212</td>\n",
       "    </tr>\n",
       "    <tr>\n",
       "      <th>4</th>\n",
       "      <td>2744</td>\n",
       "      <td>5</td>\n",
       "      <td>173</td>\n",
       "      <td>42</td>\n",
       "      <td>003</td>\n",
       "      <td>300100</td>\n",
       "      <td>5</td>\n",
       "      <td>420033001005</td>\n",
       "      <td>Block Group 5</td>\n",
       "      <td>G5030</td>\n",
       "      <td>...</td>\n",
       "      <td>15</td>\n",
       "      <td>Thomas Scharff</td>\n",
       "      <td>8669d2f0-b886-4519-99d0-bb1015b592b0</td>\n",
       "      <td>SDE</td>\n",
       "      <td>2020-08-14T12:57:28</td>\n",
       "      <td>SDE</td>\n",
       "      <td>2020-08-14T13:00:19</td>\n",
       "      <td>NaN</td>\n",
       "      <td>8.353056e+06</td>\n",
       "      <td>12021.864889</td>\n",
       "    </tr>\n",
       "  </tbody>\n",
       "</table>\n",
       "<p>5 rows × 40 columns</p>\n",
       "</div>"
      ],
      "text/plain": [
       "    _id  objectid  fid_blockg statefp10 countyfp10 tractce10 blkgrpce10  \\\n",
       "0  2740         1         233        42        003    140500          3   \n",
       "1  2741         2         203        42        003    140100          3   \n",
       "2  2742         3          86        42        003    101700          2   \n",
       "3  2743         4         214        42        003    050900          1   \n",
       "4  2744         5         173        42        003    300100          5   \n",
       "\n",
       "        geoid10     namelsad10 mtfcc10  ... page_number     plannerassign  \\\n",
       "0  420031405003  Block Group 3   G5030  ...          15    Adriana Bowman   \n",
       "1  420031401003  Block Group 3   G5030  ...          15  Christian Umbach   \n",
       "2  420031017002  Block Group 2   G5030  ...          15    Keith Portugal   \n",
       "3  420030509001  Block Group 1   G5030  ...          15     Ose Akinlotan   \n",
       "4  420033001005  Block Group 5   G5030  ...          15    Thomas Scharff   \n",
       "\n",
       "                               globalid created_user         created_date  \\\n",
       "0  a642a6b6-a2a9-48d5-acf2-3e2ce87d4bc0          SDE  2020-08-14T12:57:28   \n",
       "1  20d4605b-258e-441a-a57e-a28fdabb6d30          SDE  2020-08-14T12:57:28   \n",
       "2  bf4065e7-c29c-48bd-b529-e7fd99077238          SDE  2020-08-14T12:57:28   \n",
       "3  fed3fb32-0cd3-4556-aa41-17ee03b4fe41          SDE  2020-08-14T12:57:28   \n",
       "4  8669d2f0-b886-4519-99d0-bb1015b592b0          SDE  2020-08-14T12:57:28   \n",
       "\n",
       "   last_edited_user     last_edited_date  temp    shape_area  shape_length  \n",
       "0               SDE  2020-08-14T13:02:13   NaN  8.417066e+06  14181.728231  \n",
       "1               SDE  2020-08-14T13:02:41   NaN  3.410838e+07  30326.729782  \n",
       "2               SDE  2020-08-14T12:59:55   NaN  1.275115e+07  14577.426320  \n",
       "3               SDE  2020-08-14T12:58:41   NaN  4.897512e+06  13941.514212  \n",
       "4               SDE  2020-08-14T13:00:19   NaN  8.353056e+06  12021.864889  \n",
       "\n",
       "[5 rows x 40 columns]"
      ]
     },
     "execution_count": 4,
     "metadata": {},
     "output_type": "execute_result"
    }
   ],
   "source": [
    "# display neighborhoods\n",
    "neighborhoods.head()"
   ]
  },
  {
   "cell_type": "markdown",
   "metadata": {},
   "source": [
    "Since these datasets are content heavy, filter out the irrelevant information. What I want to focus on is mostly the qualitative information, particularly which neighborhood an art piece is located in. The title is included for identification, but does not contribute to the analysis. I also remove the few art pieces included that don't list the neighborhood."
   ]
  },
  {
   "cell_type": "code",
   "execution_count": 4,
   "metadata": {},
   "outputs": [
    {
     "data": {
      "text/html": [
       "<div>\n",
       "<style scoped>\n",
       "    .dataframe tbody tr th:only-of-type {\n",
       "        vertical-align: middle;\n",
       "    }\n",
       "\n",
       "    .dataframe tbody tr th {\n",
       "        vertical-align: top;\n",
       "    }\n",
       "\n",
       "    .dataframe thead th {\n",
       "        text-align: right;\n",
       "    }\n",
       "</style>\n",
       "<table border=\"1\" class=\"dataframe\">\n",
       "  <thead>\n",
       "    <tr style=\"text-align: right;\">\n",
       "      <th></th>\n",
       "      <th>title</th>\n",
       "      <th>neighborhood</th>\n",
       "    </tr>\n",
       "  </thead>\n",
       "  <tbody>\n",
       "    <tr>\n",
       "      <th>0</th>\n",
       "      <td>Oakwood Road Monument</td>\n",
       "      <td>Oakwood</td>\n",
       "    </tr>\n",
       "    <tr>\n",
       "      <th>1</th>\n",
       "      <td>Rooster Waiting For The Streetcar</td>\n",
       "      <td>Elliott</td>\n",
       "    </tr>\n",
       "    <tr>\n",
       "      <th>2</th>\n",
       "      <td>Middle East Memorial Plaque</td>\n",
       "      <td>Central Business District</td>\n",
       "    </tr>\n",
       "    <tr>\n",
       "      <th>3</th>\n",
       "      <td>L'Enfant</td>\n",
       "      <td>Carrick</td>\n",
       "    </tr>\n",
       "    <tr>\n",
       "      <th>4</th>\n",
       "      <td>Veterans Memorial (Brookline)</td>\n",
       "      <td>Brookline</td>\n",
       "    </tr>\n",
       "  </tbody>\n",
       "</table>\n",
       "</div>"
      ],
      "text/plain": [
       "                               title               neighborhood\n",
       "0              Oakwood Road Monument                    Oakwood\n",
       "1  Rooster Waiting For The Streetcar                    Elliott\n",
       "2        Middle East Memorial Plaque  Central Business District\n",
       "3                           L'Enfant                    Carrick\n",
       "4      Veterans Memorial (Brookline)                  Brookline"
      ]
     },
     "execution_count": 4,
     "metadata": {},
     "output_type": "execute_result"
    }
   ],
   "source": [
    "# filter the rows\n",
    "#artReduced = art[['title', 'art_type', 'neighborhood']]\n",
    "artReduced = art[['title', 'neighborhood']]\n",
    "\n",
    "# remove rows that don't have a neighborhood\n",
    "artReduced.dropna(subset=['neighborhood'])\n",
    "\n",
    "# display new art dataset\n",
    "artReduced.head()"
   ]
  },
  {
   "cell_type": "markdown",
   "metadata": {},
   "source": [
    "Then, since I'm only concerned with the names of the neighborhoods, and each neighborhood in the dataset is unique, I created a list using the column with the names. Using that list, I created a dictionary so I could keep track of how much art appeared in each neighborhood. From that dictionary, I created a new dataframe with the neighborhoods as the index and the associated art quantities."
   ]
  },
  {
   "cell_type": "code",
   "execution_count": 5,
   "metadata": {},
   "outputs": [
    {
     "data": {
      "text/html": [
       "<div>\n",
       "<style scoped>\n",
       "    .dataframe tbody tr th:only-of-type {\n",
       "        vertical-align: middle;\n",
       "    }\n",
       "\n",
       "    .dataframe tbody tr th {\n",
       "        vertical-align: top;\n",
       "    }\n",
       "\n",
       "    .dataframe thead th {\n",
       "        text-align: right;\n",
       "    }\n",
       "</style>\n",
       "<table border=\"1\" class=\"dataframe\">\n",
       "  <thead>\n",
       "    <tr style=\"text-align: right;\">\n",
       "      <th></th>\n",
       "      <th>hood</th>\n",
       "    </tr>\n",
       "  </thead>\n",
       "  <tbody>\n",
       "    <tr>\n",
       "      <th>0</th>\n",
       "      <td>Point Breeze North</td>\n",
       "    </tr>\n",
       "    <tr>\n",
       "      <th>1</th>\n",
       "      <td>Squirrel Hill North</td>\n",
       "    </tr>\n",
       "    <tr>\n",
       "      <th>2</th>\n",
       "      <td>Garfield</td>\n",
       "    </tr>\n",
       "    <tr>\n",
       "      <th>3</th>\n",
       "      <td>Bedford Dwellings</td>\n",
       "    </tr>\n",
       "    <tr>\n",
       "      <th>4</th>\n",
       "      <td>Knoxville</td>\n",
       "    </tr>\n",
       "  </tbody>\n",
       "</table>\n",
       "</div>"
      ],
      "text/plain": [
       "                  hood\n",
       "0   Point Breeze North\n",
       "1  Squirrel Hill North\n",
       "2             Garfield\n",
       "3    Bedford Dwellings\n",
       "4            Knoxville"
      ]
     },
     "execution_count": 5,
     "metadata": {},
     "output_type": "execute_result"
    }
   ],
   "source": [
    "# create a list of all neighborhoods (names)\n",
    "allHoods = neighborhoods.iloc[:, [21]]\n",
    "\n",
    "# display list\n",
    "allHoods.head()"
   ]
  },
  {
   "cell_type": "code",
   "execution_count": 6,
   "metadata": {},
   "outputs": [
    {
     "name": "stdout",
     "output_type": "stream",
     "text": [
      "{'Oakwood': 1, 'Elliott': 3, 'Central Business District': 27, 'Carrick': 2, 'Brookline': 2, 'South Side Slopes': 3, nan: 2, 'Hazelwood': 3, 'Highland Park': 10, 'Squirrel Hill South': 20, 'Perry North': 2, 'Beltzhoover': 3, 'Spring Hill-City View': 4, 'West End': 2, 'Greenfield': 3, 'Shadyside': 6, 'East Allegheny': 2, 'Squirrel Hill North': 2, 'Beechview': 7, 'Crawford-Roberts': 3, 'Lincoln-Lemington-Belmar': 2, 'Hays': 1, 'Allegheny Center': 18, 'North Oakland': 1, 'South Side Flats': 9, 'Central Oakland': 5, 'Point Breeze': 3, 'Allegheny West': 1, 'Strip District': 2, 'Mount Washington': 2, 'Brighton Heights': 5, 'Perry South': 1, 'North Shore': 8, 'Upper Hill': 2, 'Garfield': 2, 'Central Lawrenceville': 2, 'Upper Lawrenceville': 1, 'Stanton Heights': 1, 'Duquesne Heights': 3, 'Allentown': 2, 'East Liberty': 1, 'Bloomfield': 1, 'East Carnegie': 1, 'East Hills': 1, 'Lower Lawrenceville': 5, 'Overbrook': 1, 'Polish Hill': 1, 'Regent Square': 1, 'Sheraden': 1, 'Spring Garden': 2, 'Swisshelm Park': 1, 'Troy Hill': 1, 'Crafton Heights': 1, 'Esplen': 1, 'Knoxville': 1, 'Manchester': 1}\n"
     ]
    }
   ],
   "source": [
    "# create dictionary where key is neighborhood name and value is number of artworks\n",
    "hoodDict = {}\n",
    "\n",
    "# for each row, match the neighborhood name with a name in the dictionary and increment the associated value by 1\n",
    "for index, row in art.iterrows():\n",
    "    if (row['neighborhood']) in hoodDict:\n",
    "        hoodDict[row['neighborhood']] = hoodDict[row['neighborhood']] + 1\n",
    "    else:\n",
    "        hoodDict[row['neighborhood']] = 1\n",
    "\n",
    "# display dictionary\n",
    "print(hoodDict)"
   ]
  },
  {
   "cell_type": "code",
   "execution_count": 7,
   "metadata": {},
   "outputs": [
    {
     "data": {
      "text/html": [
       "<div>\n",
       "<style scoped>\n",
       "    .dataframe tbody tr th:only-of-type {\n",
       "        vertical-align: middle;\n",
       "    }\n",
       "\n",
       "    .dataframe tbody tr th {\n",
       "        vertical-align: top;\n",
       "    }\n",
       "\n",
       "    .dataframe thead th {\n",
       "        text-align: right;\n",
       "    }\n",
       "</style>\n",
       "<table border=\"1\" class=\"dataframe\">\n",
       "  <thead>\n",
       "    <tr style=\"text-align: right;\">\n",
       "      <th></th>\n",
       "      <th>art</th>\n",
       "    </tr>\n",
       "    <tr>\n",
       "      <th>neighborhood</th>\n",
       "      <th></th>\n",
       "    </tr>\n",
       "  </thead>\n",
       "  <tbody>\n",
       "    <tr>\n",
       "      <th>Central Business District</th>\n",
       "      <td>27</td>\n",
       "    </tr>\n",
       "    <tr>\n",
       "      <th>Squirrel Hill South</th>\n",
       "      <td>20</td>\n",
       "    </tr>\n",
       "    <tr>\n",
       "      <th>Allegheny Center</th>\n",
       "      <td>18</td>\n",
       "    </tr>\n",
       "    <tr>\n",
       "      <th>Highland Park</th>\n",
       "      <td>10</td>\n",
       "    </tr>\n",
       "    <tr>\n",
       "      <th>South Side Flats</th>\n",
       "      <td>9</td>\n",
       "    </tr>\n",
       "  </tbody>\n",
       "</table>\n",
       "</div>"
      ],
      "text/plain": [
       "                           art\n",
       "neighborhood                  \n",
       "Central Business District   27\n",
       "Squirrel Hill South         20\n",
       "Allegheny Center            18\n",
       "Highland Park               10\n",
       "South Side Flats             9"
      ]
     },
     "execution_count": 7,
     "metadata": {},
     "output_type": "execute_result"
    }
   ],
   "source": [
    "# create the new dataframe and sort by descending art number\n",
    "neighborhoodArt = pd.DataFrame(list(hoodDict.items()))\n",
    "neighborhoodArt.columns = ['neighborhood', 'art']\n",
    "neighborhoodArt = neighborhoodArt.sort_values(by = 'art', ascending = False, ignore_index = True)\n",
    "neighborhoodArt.set_index('neighborhood', inplace = True, drop = True)\n",
    "\n",
    "# display dataframe\n",
    "neighborhoodArt.head()"
   ]
  },
  {
   "cell_type": "markdown",
   "metadata": {},
   "source": [
    "**Data Visualization**\n",
    "\n",
    "---\n",
    "Now that all the information needed for display has been generated, create a bar chart with said information."
   ]
  },
  {
   "cell_type": "code",
   "execution_count": 8,
   "metadata": {},
   "outputs": [
    {
     "data": {
      "text/plain": [
       "<matplotlib.axes._subplots.AxesSubplot at 0x7ff57ca4a3d0>"
      ]
     },
     "execution_count": 8,
     "metadata": {},
     "output_type": "execute_result"
    },
    {
     "data": {
      "image/png": "[encoded data removed]",
      "text/plain": [
       "<Figure size 432x288 with 1 Axes>"
      ]
     },
     "metadata": {
      "needs_background": "light"
     },
     "output_type": "display_data"
    }
   ],
   "source": [
    "neighborhoodArt.plot(kind=\"bar\")"
   ]
  },
  {
   "cell_type": "markdown",
   "metadata": {},
   "source": [
    "Since it's very difficult to tell what's happening, let's look at just the top 15 neighborhoods and reformat it for better accessibility."
   ]
  },
  {
   "cell_type": "code",
   "execution_count": 9,
   "metadata": {},
   "outputs": [
    {
     "data": {
      "text/plain": [
       "Text(0, 0.5, 'Instances of Public Art')"
      ]
     },
     "execution_count": 9,
     "metadata": {},
     "output_type": "execute_result"
    },
    {
     "data": {
      "image/png": "[encoded data removed]",
      "text/plain": [
       "<Figure size 432x288 with 1 Axes>"
      ]
     },
     "metadata": {
      "needs_background": "light"
     },
     "output_type": "display_data"
    }
   ],
   "source": [
    "import matplotlib.pyplot as plt\n",
    "\n",
    "artTop15 = neighborhoodArt.head(15)\n",
    "artTop15.plot.bar(title=\"Public Art by Neighborhood\")\n",
    "plt.xlabel(\"Neighborhood\")\n",
    "plt.ylabel(\"Instances of Public Art\")"
   ]
  },
  {
   "cell_type": "markdown",
   "metadata": {},
   "source": [
    "This chart now shows the top 15 neighborhoods, sorted by the instances of public art in descending order. From here, we see that 'Central Business District' has the most instances of art at 27 instances, 'Squirrel Hill South' is second at 20 instances, and 'Allegheny Center' follows in third at 18 instances of public art."
   ]
  },
  {
   "cell_type": "markdown",
   "metadata": {},
   "source": [
    "---\n",
    "To see the density of artworks by neighborhood on a map, I follow the process outlined in the 'Data Visualization' lab."
   ]
  },
  {
   "cell_type": "code",
   "execution_count": 10,
   "metadata": {},
   "outputs": [
    {
     "data": {
      "text/plain": [
       "<matplotlib.axes._subplots.AxesSubplot at 0x7ff580197760>"
      ]
     },
     "execution_count": 10,
     "metadata": {},
     "output_type": "execute_result"
    },
    {
     "data": {
      "image/png": "[encoded data removed]",
      "text/plain": [
       "<Figure size 432x288 with 1 Axes>"
      ]
     },
     "metadata": {
      "needs_background": "light"
     },
     "output_type": "display_data"
    }
   ],
   "source": [
    "import geopandas\n",
    "\n",
    "neighborhoodMap = geopandas.read_file(\"NeighborhoodMap/Neighborhoods_.shp\") # read in the shapefile\n",
    "neighborhoodMap.plot() # plot the geopandas dataframe"
   ]
  },
  {
   "cell_type": "code",
   "execution_count": 11,
   "metadata": {},
   "outputs": [],
   "source": [
    "# merge\n",
    "artMap = neighborhoodMap.merge(neighborhoodArt, how='left', left_on='hood', right_on='neighborhood')"
   ]
  },
  {
   "cell_type": "code",
   "execution_count": 12,
   "metadata": {},
   "outputs": [
    {
     "data": {
      "text/plain": [
       "<matplotlib.axes._subplots.AxesSubplot at 0x7ff57c737190>"
      ]
     },
     "execution_count": 12,
     "metadata": {},
     "output_type": "execute_result"
    },
    {
     "data": {
      "image/png": "[encoded data removed]",
      "text/plain": [
       "<Figure size 1080x720 with 2 Axes>"
      ]
     },
     "metadata": {
      "needs_background": "light"
     },
     "output_type": "display_data"
    }
   ],
   "source": [
    "artMap.plot(column='art', # set the data to be used for coloring\n",
    "            cmap='PuBu',              # choose a color palette\n",
    "            edgecolor=\"darkgray\",     # outline the districts in dark gray\n",
    "            legend=True,              # show the legend\n",
    "            legend_kwds={'label': \"Instances of Public Art\"}, # label the legend\n",
    "            figsize=(15, 10),         # set the size\n",
    "            missing_kwds={\"color\": \"lightgrey\"} # set disctricts with no data to gray\n",
    "            )"
   ]
  },
  {
   "cell_type": "markdown",
   "metadata": {},
   "source": [
    "**Public Art Conclusion**\n",
    "\n",
    "---"
   ]
  },
  {
   "cell_type": "markdown",
   "metadata": {},
   "source": [
    "Based on just the metric of quantity of public art in a neighborhood, it appears Central Business District (downtown), Squirrel Hill South, and Allegheny Center are the best neighborhoods within the city of Pittsburgh. Though many neighborhoods had a few art pieces here and there, these 3 had the most significant values based on both the bar chart and as seen on the color map. Further analysis on other metrics should be completed to come to an overall conclusion, but these 3 neighborhoods are substantial contenders for best neighborhood in Pittsburgh."
   ]
  },
  {
   "cell_type": "markdown",
   "metadata": {},
   "source": [
    "## Safety: Crime\n",
    "---"
   ]
  },
  {
   "cell_type": "markdown",
   "metadata": {},
   "source": [
    "**Links to datasets:**  \n",
    "https://data.wprdc.org/dataset/uniform-crime-reporting-data  \n",
    "https://data.wprdc.org/dataset/pittsburgh-american-community-survey-2015-miscellaneous-data/resource/82f29015-6905-4b1c-8300-afe9bb2231b3  \n",
    "\n",
    "In order to rank each neighborhood by their community, I decided to look at how calm a specific neighborhood is using the Police Blotter Archive. The amount of offenses in a given place typically correlates to how \"safe\" it feels. If someone living there feels safe and secure in their community, then they will be more comfortable interacting with one another."
   ]
  },
  {
   "cell_type": "markdown",
   "metadata": {},
   "source": [
    "### Crime Frequency Analysis\n",
    "---"
   ]
  },
  {
   "cell_type": "markdown",
   "metadata": {},
   "source": [
    "First, I import pandas and load in the crime data."
   ]
  },
  {
   "cell_type": "markdown",
   "metadata": {},
   "source": [
    "---"
   ]
  },
  {
   "cell_type": "code",
   "execution_count": 2,
   "metadata": {},
   "outputs": [
    {
     "data": {
      "text/html": [
       "<div>\n",
       "<style scoped>\n",
       "    .dataframe tbody tr th:only-of-type {\n",
       "        vertical-align: middle;\n",
       "    }\n",
       "\n",
       "    .dataframe tbody tr th {\n",
       "        vertical-align: top;\n",
       "    }\n",
       "\n",
       "    .dataframe thead th {\n",
       "        text-align: right;\n",
       "    }\n",
       "</style>\n",
       "<table border=\"1\" class=\"dataframe\">\n",
       "  <thead>\n",
       "    <tr style=\"text-align: right;\">\n",
       "      <th></th>\n",
       "      <th>PK</th>\n",
       "      <th>CCR</th>\n",
       "      <th>HIERARCHY</th>\n",
       "      <th>INCIDENTTIME</th>\n",
       "      <th>INCIDENTLOCATION</th>\n",
       "      <th>CLEAREDFLAG</th>\n",
       "      <th>INCIDENTNEIGHBORHOOD</th>\n",
       "      <th>INCIDENTZONE</th>\n",
       "      <th>INCIDENTHIERARCHYDESC</th>\n",
       "      <th>OFFENSES</th>\n",
       "      <th>INCIDENTTRACT</th>\n",
       "      <th>COUNCIL_DISTRICT</th>\n",
       "      <th>PUBLIC_WORKS_DIVISION</th>\n",
       "      <th>X</th>\n",
       "      <th>Y</th>\n",
       "    </tr>\n",
       "    <tr>\n",
       "      <th>_id</th>\n",
       "      <th></th>\n",
       "      <th></th>\n",
       "      <th></th>\n",
       "      <th></th>\n",
       "      <th></th>\n",
       "      <th></th>\n",
       "      <th></th>\n",
       "      <th></th>\n",
       "      <th></th>\n",
       "      <th></th>\n",
       "      <th></th>\n",
       "      <th></th>\n",
       "      <th></th>\n",
       "      <th></th>\n",
       "      <th></th>\n",
       "    </tr>\n",
       "  </thead>\n",
       "  <tbody>\n",
       "    <tr>\n",
       "      <th>1</th>\n",
       "      <td>2802309</td>\n",
       "      <td>16000001.0</td>\n",
       "      <td>10</td>\n",
       "      <td>2016-01-01T00:00:00</td>\n",
       "      <td>400 Block North Shore DR Pittsburgh, PA 15212</td>\n",
       "      <td>Y</td>\n",
       "      <td>North Shore</td>\n",
       "      <td>1</td>\n",
       "      <td>HARRASSMENT/THREAT/ATTEMPT/PHY</td>\n",
       "      <td>2702 Aggravated Assault. / 2709(a) Harassment....</td>\n",
       "      <td>2205.0</td>\n",
       "      <td>1.0</td>\n",
       "      <td>6.0</td>\n",
       "      <td>-80.012337</td>\n",
       "      <td>40.446263</td>\n",
       "    </tr>\n",
       "    <tr>\n",
       "      <th>2</th>\n",
       "      <td>2803174</td>\n",
       "      <td>16004547.0</td>\n",
       "      <td>11</td>\n",
       "      <td>2016-01-01T00:01:00</td>\n",
       "      <td>5400 Block Carnegie ST Pittsburgh, PA 15201</td>\n",
       "      <td>N</td>\n",
       "      <td>Upper Lawrenceville</td>\n",
       "      <td>2</td>\n",
       "      <td>THEFT BY DECEPTION</td>\n",
       "      <td>3922 Theft by Deception.</td>\n",
       "      <td>1011.0</td>\n",
       "      <td>7.0</td>\n",
       "      <td>2.0</td>\n",
       "      <td>-79.950295</td>\n",
       "      <td>40.482290</td>\n",
       "    </tr>\n",
       "    <tr>\n",
       "      <th>3</th>\n",
       "      <td>2801809</td>\n",
       "      <td>16000367.0</td>\n",
       "      <td>4</td>\n",
       "      <td>2016-01-01T00:10:00</td>\n",
       "      <td>500 Block Mt Pleasant RD Pittsburgh, PA 15214</td>\n",
       "      <td>N</td>\n",
       "      <td>Northview Heights</td>\n",
       "      <td>1</td>\n",
       "      <td>DISCHARGE OF FIREARM INTO OCC.STRUCTURE</td>\n",
       "      <td>2707.1 Discharge of a Firearm into Occupied St...</td>\n",
       "      <td>2609.0</td>\n",
       "      <td>1.0</td>\n",
       "      <td>1.0</td>\n",
       "      <td>-80.000966</td>\n",
       "      <td>40.478651</td>\n",
       "    </tr>\n",
       "    <tr>\n",
       "      <th>4</th>\n",
       "      <td>2802315</td>\n",
       "      <td>16000035.0</td>\n",
       "      <td>10</td>\n",
       "      <td>2016-01-01T00:15:00</td>\n",
       "      <td>300 Block Wood ST Pittsburgh, PA 15222</td>\n",
       "      <td>Y</td>\n",
       "      <td>Golden Triangle/Civic Arena</td>\n",
       "      <td>2</td>\n",
       "      <td>HARRASSMENT/THREAT/ATTEMPT/PHY</td>\n",
       "      <td>2709(a)(3) Harassment No Legitimate Purpose</td>\n",
       "      <td>201.0</td>\n",
       "      <td>6.0</td>\n",
       "      <td>6.0</td>\n",
       "      <td>-80.001251</td>\n",
       "      <td>40.438918</td>\n",
       "    </tr>\n",
       "    <tr>\n",
       "      <th>5</th>\n",
       "      <td>2802312</td>\n",
       "      <td>16000024.0</td>\n",
       "      <td>4</td>\n",
       "      <td>2016-01-01T00:16:00</td>\n",
       "      <td>500 Block Mt Pleasant RD Pittsburgh, PA 15214</td>\n",
       "      <td>N</td>\n",
       "      <td>Northview Heights</td>\n",
       "      <td>1</td>\n",
       "      <td>PROP MISSILE INTO OCC VEHICLE/OR ROADWAY</td>\n",
       "      <td>2705 Recklessy Endangering Another Person. / 3...</td>\n",
       "      <td>2609.0</td>\n",
       "      <td>1.0</td>\n",
       "      <td>1.0</td>\n",
       "      <td>-80.000966</td>\n",
       "      <td>40.478651</td>\n",
       "    </tr>\n",
       "  </tbody>\n",
       "</table>\n",
       "</div>"
      ],
      "text/plain": [
       "          PK         CCR  HIERARCHY         INCIDENTTIME  \\\n",
       "_id                                                        \n",
       "1    2802309  16000001.0         10  2016-01-01T00:00:00   \n",
       "2    2803174  16004547.0         11  2016-01-01T00:01:00   \n",
       "3    2801809  16000367.0          4  2016-01-01T00:10:00   \n",
       "4    2802315  16000035.0         10  2016-01-01T00:15:00   \n",
       "5    2802312  16000024.0          4  2016-01-01T00:16:00   \n",
       "\n",
       "                                  INCIDENTLOCATION CLEAREDFLAG  \\\n",
       "_id                                                              \n",
       "1    400 Block North Shore DR Pittsburgh, PA 15212           Y   \n",
       "2      5400 Block Carnegie ST Pittsburgh, PA 15201           N   \n",
       "3    500 Block Mt Pleasant RD Pittsburgh, PA 15214           N   \n",
       "4           300 Block Wood ST Pittsburgh, PA 15222           Y   \n",
       "5    500 Block Mt Pleasant RD Pittsburgh, PA 15214           N   \n",
       "\n",
       "            INCIDENTNEIGHBORHOOD INCIDENTZONE  \\\n",
       "_id                                             \n",
       "1                    North Shore            1   \n",
       "2            Upper Lawrenceville            2   \n",
       "3              Northview Heights            1   \n",
       "4    Golden Triangle/Civic Arena            2   \n",
       "5              Northview Heights            1   \n",
       "\n",
       "                        INCIDENTHIERARCHYDESC  \\\n",
       "_id                                             \n",
       "1              HARRASSMENT/THREAT/ATTEMPT/PHY   \n",
       "2                          THEFT BY DECEPTION   \n",
       "3     DISCHARGE OF FIREARM INTO OCC.STRUCTURE   \n",
       "4              HARRASSMENT/THREAT/ATTEMPT/PHY   \n",
       "5    PROP MISSILE INTO OCC VEHICLE/OR ROADWAY   \n",
       "\n",
       "                                              OFFENSES  INCIDENTTRACT  \\\n",
       "_id                                                                     \n",
       "1    2702 Aggravated Assault. / 2709(a) Harassment....         2205.0   \n",
       "2                             3922 Theft by Deception.         1011.0   \n",
       "3    2707.1 Discharge of a Firearm into Occupied St...         2609.0   \n",
       "4          2709(a)(3) Harassment No Legitimate Purpose          201.0   \n",
       "5    2705 Recklessy Endangering Another Person. / 3...         2609.0   \n",
       "\n",
       "     COUNCIL_DISTRICT  PUBLIC_WORKS_DIVISION          X          Y  \n",
       "_id                                                                 \n",
       "1                 1.0                    6.0 -80.012337  40.446263  \n",
       "2                 7.0                    2.0 -79.950295  40.482290  \n",
       "3                 1.0                    1.0 -80.000966  40.478651  \n",
       "4                 6.0                    6.0 -80.001251  40.438918  \n",
       "5                 1.0                    1.0 -80.000966  40.478651  "
      ]
     },
     "execution_count": 2,
     "metadata": {},
     "output_type": "execute_result"
    }
   ],
   "source": [
    "import pandas as pd\n",
    "\n",
    "#Load crime data\n",
    "crimeData = pd.read_csv(\"crime.tsv\", index_col=\"_id\", sep='\\t')\n",
    "\n",
    "#Display crime data\n",
    "crimeData.head()"
   ]
  },
  {
   "cell_type": "markdown",
   "metadata": {},
   "source": [
    "---\n",
    "This dataset has far too many columns, I only need the offense and the neighborhood where the crime took place. Also, I removed any rows with a null value for accuracy."
   ]
  },
  {
   "cell_type": "markdown",
   "metadata": {},
   "source": [
    "---"
   ]
  },
  {
   "cell_type": "code",
   "execution_count": 3,
   "metadata": {},
   "outputs": [
    {
     "data": {
      "text/html": [
       "<div>\n",
       "<style scoped>\n",
       "    .dataframe tbody tr th:only-of-type {\n",
       "        vertical-align: middle;\n",
       "    }\n",
       "\n",
       "    .dataframe tbody tr th {\n",
       "        vertical-align: top;\n",
       "    }\n",
       "\n",
       "    .dataframe thead th {\n",
       "        text-align: right;\n",
       "    }\n",
       "</style>\n",
       "<table border=\"1\" class=\"dataframe\">\n",
       "  <thead>\n",
       "    <tr style=\"text-align: right;\">\n",
       "      <th></th>\n",
       "      <th>INCIDENTNEIGHBORHOOD</th>\n",
       "      <th>OFFENSES</th>\n",
       "    </tr>\n",
       "    <tr>\n",
       "      <th>_id</th>\n",
       "      <th></th>\n",
       "      <th></th>\n",
       "    </tr>\n",
       "  </thead>\n",
       "  <tbody>\n",
       "    <tr>\n",
       "      <th>1</th>\n",
       "      <td>North Shore</td>\n",
       "      <td>2702 Aggravated Assault. / 2709(a) Harassment....</td>\n",
       "    </tr>\n",
       "    <tr>\n",
       "      <th>2</th>\n",
       "      <td>Upper Lawrenceville</td>\n",
       "      <td>3922 Theft by Deception.</td>\n",
       "    </tr>\n",
       "    <tr>\n",
       "      <th>3</th>\n",
       "      <td>Northview Heights</td>\n",
       "      <td>2707.1 Discharge of a Firearm into Occupied St...</td>\n",
       "    </tr>\n",
       "    <tr>\n",
       "      <th>4</th>\n",
       "      <td>Golden Triangle/Civic Arena</td>\n",
       "      <td>2709(a)(3) Harassment No Legitimate Purpose</td>\n",
       "    </tr>\n",
       "    <tr>\n",
       "      <th>5</th>\n",
       "      <td>Northview Heights</td>\n",
       "      <td>2705 Recklessy Endangering Another Person. / 3...</td>\n",
       "    </tr>\n",
       "  </tbody>\n",
       "</table>\n",
       "</div>"
      ],
      "text/plain": [
       "            INCIDENTNEIGHBORHOOD  \\\n",
       "_id                                \n",
       "1                    North Shore   \n",
       "2            Upper Lawrenceville   \n",
       "3              Northview Heights   \n",
       "4    Golden Triangle/Civic Arena   \n",
       "5              Northview Heights   \n",
       "\n",
       "                                              OFFENSES  \n",
       "_id                                                     \n",
       "1    2702 Aggravated Assault. / 2709(a) Harassment....  \n",
       "2                             3922 Theft by Deception.  \n",
       "3    2707.1 Discharge of a Firearm into Occupied St...  \n",
       "4          2709(a)(3) Harassment No Legitimate Purpose  \n",
       "5    2705 Recklessy Endangering Another Person. / 3...  "
      ]
     },
     "execution_count": 3,
     "metadata": {},
     "output_type": "execute_result"
    }
   ],
   "source": [
    "#Drop the irrelevant columns and rows with a null value\n",
    "filtCrime = crimeData[['INCIDENTNEIGHBORHOOD', 'OFFENSES']]\n",
    "filtCrime = filtCrime.dropna()\n",
    "\n",
    "filtCrime.head()"
   ]
  },
  {
   "cell_type": "markdown",
   "metadata": {},
   "source": [
    "---\n",
    "This is great, but I now I need to know exactly how many offenses occurred in each neighborhood"
   ]
  },
  {
   "cell_type": "markdown",
   "metadata": {},
   "source": [
    "---"
   ]
  },
  {
   "cell_type": "code",
   "execution_count": 4,
   "metadata": {},
   "outputs": [
    {
     "data": {
      "text/html": [
       "<div>\n",
       "<style scoped>\n",
       "    .dataframe tbody tr th:only-of-type {\n",
       "        vertical-align: middle;\n",
       "    }\n",
       "\n",
       "    .dataframe tbody tr th {\n",
       "        vertical-align: top;\n",
       "    }\n",
       "\n",
       "    .dataframe thead th {\n",
       "        text-align: right;\n",
       "    }\n",
       "</style>\n",
       "<table border=\"1\" class=\"dataframe\">\n",
       "  <thead>\n",
       "    <tr style=\"text-align: right;\">\n",
       "      <th></th>\n",
       "      <th>OFFENSES</th>\n",
       "    </tr>\n",
       "    <tr>\n",
       "      <th>INCIDENTNEIGHBORHOOD</th>\n",
       "      <th></th>\n",
       "    </tr>\n",
       "  </thead>\n",
       "  <tbody>\n",
       "    <tr>\n",
       "      <th>Allegheny Center</th>\n",
       "      <td>3532</td>\n",
       "    </tr>\n",
       "    <tr>\n",
       "      <th>Allegheny West</th>\n",
       "      <td>1077</td>\n",
       "    </tr>\n",
       "    <tr>\n",
       "      <th>Allentown</th>\n",
       "      <td>5164</td>\n",
       "    </tr>\n",
       "    <tr>\n",
       "      <th>Arlington</th>\n",
       "      <td>2109</td>\n",
       "    </tr>\n",
       "    <tr>\n",
       "      <th>Arlington Heights</th>\n",
       "      <td>561</td>\n",
       "    </tr>\n",
       "    <tr>\n",
       "      <th>...</th>\n",
       "      <td>...</td>\n",
       "    </tr>\n",
       "    <tr>\n",
       "      <th>Upper Lawrenceville</th>\n",
       "      <td>1635</td>\n",
       "    </tr>\n",
       "    <tr>\n",
       "      <th>West End</th>\n",
       "      <td>1247</td>\n",
       "    </tr>\n",
       "    <tr>\n",
       "      <th>West Oakland</th>\n",
       "      <td>1920</td>\n",
       "    </tr>\n",
       "    <tr>\n",
       "      <th>Westwood</th>\n",
       "      <td>1606</td>\n",
       "    </tr>\n",
       "    <tr>\n",
       "      <th>Windgap</th>\n",
       "      <td>872</td>\n",
       "    </tr>\n",
       "  </tbody>\n",
       "</table>\n",
       "<p>98 rows × 1 columns</p>\n",
       "</div>"
      ],
      "text/plain": [
       "                      OFFENSES\n",
       "INCIDENTNEIGHBORHOOD          \n",
       "Allegheny Center          3532\n",
       "Allegheny West            1077\n",
       "Allentown                 5164\n",
       "Arlington                 2109\n",
       "Arlington Heights          561\n",
       "...                        ...\n",
       "Upper Lawrenceville       1635\n",
       "West End                  1247\n",
       "West Oakland              1920\n",
       "Westwood                  1606\n",
       "Windgap                    872\n",
       "\n",
       "[98 rows x 1 columns]"
      ]
     },
     "execution_count": 4,
     "metadata": {},
     "output_type": "execute_result"
    }
   ],
   "source": [
    "#Count each offense by neighborhood\n",
    "crimeFreq = filtCrime.groupby(\"INCIDENTNEIGHBORHOOD\").count()\n",
    "\n",
    "#Display the offenses in each neighbood\n",
    "crimeFreq"
   ]
  },
  {
   "cell_type": "markdown",
   "metadata": {},
   "source": [
    "**Population**\n",
    "\n",
    "---\n",
    "Now that we have the amount of crimes in each neighborhood, we need to make sure that neighborhoods with very little population aren't unfairly seen as calmer while neighborhoods with a large population are seen as hotspots. In order to do this, I loaded in a new dataset with the population of every neighborhood. With this data, I can compare the crime incidences to the population in order to get ratios that we can then compare to each other."
   ]
  },
  {
   "cell_type": "markdown",
   "metadata": {},
   "source": [
    "---"
   ]
  },
  {
   "cell_type": "code",
   "execution_count": 5,
   "metadata": {},
   "outputs": [
    {
     "data": {
      "text/html": [
       "<div>\n",
       "<style scoped>\n",
       "    .dataframe tbody tr th:only-of-type {\n",
       "        vertical-align: middle;\n",
       "    }\n",
       "\n",
       "    .dataframe tbody tr th {\n",
       "        vertical-align: top;\n",
       "    }\n",
       "\n",
       "    .dataframe thead th {\n",
       "        text-align: right;\n",
       "    }\n",
       "</style>\n",
       "<table border=\"1\" class=\"dataframe\">\n",
       "  <thead>\n",
       "    <tr style=\"text-align: right;\">\n",
       "      <th></th>\n",
       "      <th>Neighborhood</th>\n",
       "      <th>Estimate; Total</th>\n",
       "    </tr>\n",
       "    <tr>\n",
       "      <th>_id</th>\n",
       "      <th></th>\n",
       "      <th></th>\n",
       "    </tr>\n",
       "  </thead>\n",
       "  <tbody>\n",
       "    <tr>\n",
       "      <th>1</th>\n",
       "      <td>Allegheny Center</td>\n",
       "      <td>1411.0</td>\n",
       "    </tr>\n",
       "    <tr>\n",
       "      <th>2</th>\n",
       "      <td>Allegheny West</td>\n",
       "      <td>343.0</td>\n",
       "    </tr>\n",
       "    <tr>\n",
       "      <th>3</th>\n",
       "      <td>Allentown</td>\n",
       "      <td>2558.0</td>\n",
       "    </tr>\n",
       "    <tr>\n",
       "      <th>4</th>\n",
       "      <td>Arlington</td>\n",
       "      <td>1852.0</td>\n",
       "    </tr>\n",
       "    <tr>\n",
       "      <th>5</th>\n",
       "      <td>Arlington Heights</td>\n",
       "      <td>272.0</td>\n",
       "    </tr>\n",
       "    <tr>\n",
       "      <th>...</th>\n",
       "      <td>...</td>\n",
       "      <td>...</td>\n",
       "    </tr>\n",
       "    <tr>\n",
       "      <th>87</th>\n",
       "      <td>Upper Lawrenceville</td>\n",
       "      <td>2754.0</td>\n",
       "    </tr>\n",
       "    <tr>\n",
       "      <th>88</th>\n",
       "      <td>West End</td>\n",
       "      <td>235.0</td>\n",
       "    </tr>\n",
       "    <tr>\n",
       "      <th>89</th>\n",
       "      <td>West Oakland</td>\n",
       "      <td>1717.0</td>\n",
       "    </tr>\n",
       "    <tr>\n",
       "      <th>90</th>\n",
       "      <td>Westwood</td>\n",
       "      <td>3537.0</td>\n",
       "    </tr>\n",
       "    <tr>\n",
       "      <th>91</th>\n",
       "      <td>Windgap</td>\n",
       "      <td>1534.0</td>\n",
       "    </tr>\n",
       "  </tbody>\n",
       "</table>\n",
       "<p>91 rows × 2 columns</p>\n",
       "</div>"
      ],
      "text/plain": [
       "            Neighborhood  Estimate; Total\n",
       "_id                                      \n",
       "1       Allegheny Center           1411.0\n",
       "2         Allegheny West            343.0\n",
       "3              Allentown           2558.0\n",
       "4              Arlington           1852.0\n",
       "5      Arlington Heights            272.0\n",
       "..                   ...              ...\n",
       "87   Upper Lawrenceville           2754.0\n",
       "88              West End            235.0\n",
       "89          West Oakland           1717.0\n",
       "90              Westwood           3537.0\n",
       "91               Windgap           1534.0\n",
       "\n",
       "[91 rows x 2 columns]"
      ]
     },
     "execution_count": 5,
     "metadata": {},
     "output_type": "execute_result"
    }
   ],
   "source": [
    "#Load population data\n",
    "popData = pd.read_csv(\"population.tsv\", index_col=\"_id\", sep='\\t')\n",
    "popData = popData[['Neighborhood', 'Estimate; Total']]\n",
    "\n",
    "#Display the dataset\n",
    "popData"
   ]
  },
  {
   "cell_type": "markdown",
   "metadata": {},
   "source": [
    "---\n",
    "Now we can merge the two dataframes into one, removing any neighborhoods that aren't in either table. The population dataset's neighborhoods will be used as the crime dataset has duplicates."
   ]
  },
  {
   "cell_type": "markdown",
   "metadata": {},
   "source": [
    "---"
   ]
  },
  {
   "cell_type": "code",
   "execution_count": 6,
   "metadata": {},
   "outputs": [
    {
     "data": {
      "text/html": [
       "<div>\n",
       "<style scoped>\n",
       "    .dataframe tbody tr th:only-of-type {\n",
       "        vertical-align: middle;\n",
       "    }\n",
       "\n",
       "    .dataframe tbody tr th {\n",
       "        vertical-align: top;\n",
       "    }\n",
       "\n",
       "    .dataframe thead th {\n",
       "        text-align: right;\n",
       "    }\n",
       "</style>\n",
       "<table border=\"1\" class=\"dataframe\">\n",
       "  <thead>\n",
       "    <tr style=\"text-align: right;\">\n",
       "      <th></th>\n",
       "      <th>Neighborhood</th>\n",
       "      <th>Estimate; Total</th>\n",
       "      <th>OFFENSES</th>\n",
       "    </tr>\n",
       "    <tr>\n",
       "      <th>_id</th>\n",
       "      <th></th>\n",
       "      <th></th>\n",
       "      <th></th>\n",
       "    </tr>\n",
       "  </thead>\n",
       "  <tbody>\n",
       "    <tr>\n",
       "      <th>1</th>\n",
       "      <td>Allegheny Center</td>\n",
       "      <td>1411.0</td>\n",
       "      <td>3532</td>\n",
       "    </tr>\n",
       "    <tr>\n",
       "      <th>2</th>\n",
       "      <td>Allegheny West</td>\n",
       "      <td>343.0</td>\n",
       "      <td>1077</td>\n",
       "    </tr>\n",
       "    <tr>\n",
       "      <th>3</th>\n",
       "      <td>Allentown</td>\n",
       "      <td>2558.0</td>\n",
       "      <td>5164</td>\n",
       "    </tr>\n",
       "    <tr>\n",
       "      <th>4</th>\n",
       "      <td>Arlington</td>\n",
       "      <td>1852.0</td>\n",
       "      <td>2109</td>\n",
       "    </tr>\n",
       "    <tr>\n",
       "      <th>5</th>\n",
       "      <td>Arlington Heights</td>\n",
       "      <td>272.0</td>\n",
       "      <td>561</td>\n",
       "    </tr>\n",
       "    <tr>\n",
       "      <th>...</th>\n",
       "      <td>...</td>\n",
       "      <td>...</td>\n",
       "      <td>...</td>\n",
       "    </tr>\n",
       "    <tr>\n",
       "      <th>87</th>\n",
       "      <td>Upper Lawrenceville</td>\n",
       "      <td>2754.0</td>\n",
       "      <td>1635</td>\n",
       "    </tr>\n",
       "    <tr>\n",
       "      <th>88</th>\n",
       "      <td>West End</td>\n",
       "      <td>235.0</td>\n",
       "      <td>1247</td>\n",
       "    </tr>\n",
       "    <tr>\n",
       "      <th>89</th>\n",
       "      <td>West Oakland</td>\n",
       "      <td>1717.0</td>\n",
       "      <td>1920</td>\n",
       "    </tr>\n",
       "    <tr>\n",
       "      <th>90</th>\n",
       "      <td>Westwood</td>\n",
       "      <td>3537.0</td>\n",
       "      <td>1606</td>\n",
       "    </tr>\n",
       "    <tr>\n",
       "      <th>91</th>\n",
       "      <td>Windgap</td>\n",
       "      <td>1534.0</td>\n",
       "      <td>872</td>\n",
       "    </tr>\n",
       "  </tbody>\n",
       "</table>\n",
       "<p>89 rows × 3 columns</p>\n",
       "</div>"
      ],
      "text/plain": [
       "            Neighborhood  Estimate; Total  OFFENSES\n",
       "_id                                                \n",
       "1       Allegheny Center           1411.0      3532\n",
       "2         Allegheny West            343.0      1077\n",
       "3              Allentown           2558.0      5164\n",
       "4              Arlington           1852.0      2109\n",
       "5      Arlington Heights            272.0       561\n",
       "..                   ...              ...       ...\n",
       "87   Upper Lawrenceville           2754.0      1635\n",
       "88              West End            235.0      1247\n",
       "89          West Oakland           1717.0      1920\n",
       "90              Westwood           3537.0      1606\n",
       "91               Windgap           1534.0       872\n",
       "\n",
       "[89 rows x 3 columns]"
      ]
     },
     "execution_count": 6,
     "metadata": {},
     "output_type": "execute_result"
    }
   ],
   "source": [
    "#Merge the two dataframes, use \n",
    "popCrime = pd.merge(popData, crimeFreq, left_on='Neighborhood', right_index=True)\n",
    "\n",
    "#Display merged dataset\n",
    "popCrime"
   ]
  },
  {
   "cell_type": "markdown",
   "metadata": {},
   "source": [
    "---\n",
    "Even with the ratio, we should still make sure that neighborhoods with very little people aren't counted. Let's remove any neighborhood with less than 500 people."
   ]
  },
  {
   "cell_type": "markdown",
   "metadata": {},
   "source": [
    "---"
   ]
  },
  {
   "cell_type": "code",
   "execution_count": 7,
   "metadata": {},
   "outputs": [
    {
     "data": {
      "text/html": [
       "<div>\n",
       "<style scoped>\n",
       "    .dataframe tbody tr th:only-of-type {\n",
       "        vertical-align: middle;\n",
       "    }\n",
       "\n",
       "    .dataframe tbody tr th {\n",
       "        vertical-align: top;\n",
       "    }\n",
       "\n",
       "    .dataframe thead th {\n",
       "        text-align: right;\n",
       "    }\n",
       "</style>\n",
       "<table border=\"1\" class=\"dataframe\">\n",
       "  <thead>\n",
       "    <tr style=\"text-align: right;\">\n",
       "      <th></th>\n",
       "      <th>Neighborhood</th>\n",
       "      <th>Estimate; Total</th>\n",
       "      <th>OFFENSES</th>\n",
       "    </tr>\n",
       "    <tr>\n",
       "      <th>_id</th>\n",
       "      <th></th>\n",
       "      <th></th>\n",
       "      <th></th>\n",
       "    </tr>\n",
       "  </thead>\n",
       "  <tbody>\n",
       "    <tr>\n",
       "      <th>1</th>\n",
       "      <td>Allegheny Center</td>\n",
       "      <td>1411.0</td>\n",
       "      <td>3532</td>\n",
       "    </tr>\n",
       "    <tr>\n",
       "      <th>3</th>\n",
       "      <td>Allentown</td>\n",
       "      <td>2558.0</td>\n",
       "      <td>5164</td>\n",
       "    </tr>\n",
       "    <tr>\n",
       "      <th>4</th>\n",
       "      <td>Arlington</td>\n",
       "      <td>1852.0</td>\n",
       "      <td>2109</td>\n",
       "    </tr>\n",
       "    <tr>\n",
       "      <th>6</th>\n",
       "      <td>Banksville</td>\n",
       "      <td>3858.0</td>\n",
       "      <td>1749</td>\n",
       "    </tr>\n",
       "    <tr>\n",
       "      <th>7</th>\n",
       "      <td>Bedford Dwellings</td>\n",
       "      <td>1349.0</td>\n",
       "      <td>2600</td>\n",
       "    </tr>\n",
       "    <tr>\n",
       "      <th>...</th>\n",
       "      <td>...</td>\n",
       "      <td>...</td>\n",
       "      <td>...</td>\n",
       "    </tr>\n",
       "    <tr>\n",
       "      <th>86</th>\n",
       "      <td>Upper Hill</td>\n",
       "      <td>1884.0</td>\n",
       "      <td>1908</td>\n",
       "    </tr>\n",
       "    <tr>\n",
       "      <th>87</th>\n",
       "      <td>Upper Lawrenceville</td>\n",
       "      <td>2754.0</td>\n",
       "      <td>1635</td>\n",
       "    </tr>\n",
       "    <tr>\n",
       "      <th>89</th>\n",
       "      <td>West Oakland</td>\n",
       "      <td>1717.0</td>\n",
       "      <td>1920</td>\n",
       "    </tr>\n",
       "    <tr>\n",
       "      <th>90</th>\n",
       "      <td>Westwood</td>\n",
       "      <td>3537.0</td>\n",
       "      <td>1606</td>\n",
       "    </tr>\n",
       "    <tr>\n",
       "      <th>91</th>\n",
       "      <td>Windgap</td>\n",
       "      <td>1534.0</td>\n",
       "      <td>872</td>\n",
       "    </tr>\n",
       "  </tbody>\n",
       "</table>\n",
       "<p>79 rows × 3 columns</p>\n",
       "</div>"
      ],
      "text/plain": [
       "            Neighborhood  Estimate; Total  OFFENSES\n",
       "_id                                                \n",
       "1       Allegheny Center           1411.0      3532\n",
       "3              Allentown           2558.0      5164\n",
       "4              Arlington           1852.0      2109\n",
       "6             Banksville           3858.0      1749\n",
       "7      Bedford Dwellings           1349.0      2600\n",
       "..                   ...              ...       ...\n",
       "86            Upper Hill           1884.0      1908\n",
       "87   Upper Lawrenceville           2754.0      1635\n",
       "89          West Oakland           1717.0      1920\n",
       "90              Westwood           3537.0      1606\n",
       "91               Windgap           1534.0       872\n",
       "\n",
       "[79 rows x 3 columns]"
      ]
     },
     "execution_count": 7,
     "metadata": {},
     "output_type": "execute_result"
    }
   ],
   "source": [
    "popCrime = popCrime[popCrime['Estimate; Total'] > 500]\n",
    "popCrime"
   ]
  },
  {
   "cell_type": "markdown",
   "metadata": {},
   "source": [
    "---\n",
    "Now we can find the ratio by iterating through the dataframe, finding the ratio, and creating a new dictionary to store the values."
   ]
  },
  {
   "cell_type": "markdown",
   "metadata": {},
   "source": [
    "---"
   ]
  },
  {
   "cell_type": "code",
   "execution_count": 8,
   "metadata": {},
   "outputs": [
    {
     "data": {
      "text/html": [
       "<div>\n",
       "<style scoped>\n",
       "    .dataframe tbody tr th:only-of-type {\n",
       "        vertical-align: middle;\n",
       "    }\n",
       "\n",
       "    .dataframe tbody tr th {\n",
       "        vertical-align: top;\n",
       "    }\n",
       "\n",
       "    .dataframe thead th {\n",
       "        text-align: right;\n",
       "    }\n",
       "</style>\n",
       "<table border=\"1\" class=\"dataframe\">\n",
       "  <thead>\n",
       "    <tr style=\"text-align: right;\">\n",
       "      <th></th>\n",
       "      <th>Ratio</th>\n",
       "    </tr>\n",
       "  </thead>\n",
       "  <tbody>\n",
       "    <tr>\n",
       "      <th>Allegheny Center</th>\n",
       "      <td>2.503189</td>\n",
       "    </tr>\n",
       "    <tr>\n",
       "      <th>Allentown</th>\n",
       "      <td>2.018765</td>\n",
       "    </tr>\n",
       "    <tr>\n",
       "      <th>Arlington</th>\n",
       "      <td>1.138769</td>\n",
       "    </tr>\n",
       "    <tr>\n",
       "      <th>Banksville</th>\n",
       "      <td>0.453344</td>\n",
       "    </tr>\n",
       "    <tr>\n",
       "      <th>Bedford Dwellings</th>\n",
       "      <td>1.927354</td>\n",
       "    </tr>\n",
       "    <tr>\n",
       "      <th>...</th>\n",
       "      <td>...</td>\n",
       "    </tr>\n",
       "    <tr>\n",
       "      <th>Upper Hill</th>\n",
       "      <td>1.012739</td>\n",
       "    </tr>\n",
       "    <tr>\n",
       "      <th>Upper Lawrenceville</th>\n",
       "      <td>0.593682</td>\n",
       "    </tr>\n",
       "    <tr>\n",
       "      <th>West Oakland</th>\n",
       "      <td>1.118229</td>\n",
       "    </tr>\n",
       "    <tr>\n",
       "      <th>Westwood</th>\n",
       "      <td>0.454057</td>\n",
       "    </tr>\n",
       "    <tr>\n",
       "      <th>Windgap</th>\n",
       "      <td>0.568449</td>\n",
       "    </tr>\n",
       "  </tbody>\n",
       "</table>\n",
       "<p>79 rows × 1 columns</p>\n",
       "</div>"
      ],
      "text/plain": [
       "                        Ratio\n",
       "Allegheny Center     2.503189\n",
       "Allentown            2.018765\n",
       "Arlington            1.138769\n",
       "Banksville           0.453344\n",
       "Bedford Dwellings    1.927354\n",
       "...                       ...\n",
       "Upper Hill           1.012739\n",
       "Upper Lawrenceville  0.593682\n",
       "West Oakland         1.118229\n",
       "Westwood             0.454057\n",
       "Windgap              0.568449\n",
       "\n",
       "[79 rows x 1 columns]"
      ]
     },
     "execution_count": 8,
     "metadata": {},
     "output_type": "execute_result"
    }
   ],
   "source": [
    "#Create an empty dictionary\n",
    "crimeRatio = dict()\n",
    "\n",
    "#Iterate through the dataframe\n",
    "for index, row in popCrime.iterrows():\n",
    "    #Assign a new entry named the current neighborhood, set it equal to offenses/population\n",
    "    crimeRatio[row['Neighborhood']] = row['OFFENSES'] / row['Estimate; Total']\n",
    "    \n",
    "#Convert dictionary to dataframe\n",
    "graphingRatio = pd.DataFrame([crimeRatio], index = ['Ratio']).T\n",
    "graphingRatio"
   ]
  },
  {
   "cell_type": "markdown",
   "metadata": {},
   "source": [
    "---\n",
    "I then graphed the data I had been working with so far in order to get a feel for how to display the final results."
   ]
  },
  {
   "cell_type": "markdown",
   "metadata": {},
   "source": [
    "---"
   ]
  },
  {
   "cell_type": "code",
   "execution_count": 9,
   "metadata": {},
   "outputs": [
    {
     "data": {
      "text/plain": [
       "<matplotlib.axes._subplots.AxesSubplot at 0x7ff894a95460>"
      ]
     },
     "execution_count": 9,
     "metadata": {},
     "output_type": "execute_result"
    },
    {
     "data": {
      "image/png": "[encoded data removed]",
      "text/plain": [
       "<Figure size 432x288 with 1 Axes>"
      ]
     },
     "metadata": {
      "needs_background": "light"
     },
     "output_type": "display_data"
    }
   ],
   "source": [
    "#Sort the values in ascending order and plot a bar graph\n",
    "graphingRatio = graphingRatio.sort_values('Ratio', ascending=True)\n",
    "graphingRatio.plot(kind='bar')"
   ]
  },
  {
   "cell_type": "markdown",
   "metadata": {},
   "source": [
    "---\n",
    "As you can see, this is very hard to read. Let's just take the top 10 neighborhoods with the least amount of crime incidences"
   ]
  },
  {
   "cell_type": "markdown",
   "metadata": {},
   "source": [
    "---"
   ]
  },
  {
   "cell_type": "code",
   "execution_count": 10,
   "metadata": {},
   "outputs": [
    {
     "data": {
      "text/plain": [
       "Text(0, 0.5, 'Ratio')"
      ]
     },
     "execution_count": 10,
     "metadata": {},
     "output_type": "execute_result"
    },
    {
     "data": {
      "image/png": "[encoded data removed]",
      "text/plain": [
       "<Figure size 432x288 with 1 Axes>"
      ]
     },
     "metadata": {
      "needs_background": "light"
     },
     "output_type": "display_data"
    }
   ],
   "source": [
    "import matplotlib.pyplot as plt\n",
    "\n",
    "#Crop to the best 10\n",
    "bestCrime = graphingRatio.head(10)\n",
    "\n",
    "#Plot the bar graph with labels\n",
    "bestCrime.plot(kind='bar', title=\"Crime Per Person in Pittsburgh Neighborhoods\")\n",
    "plt.xlabel(\"Neighborhood\")\n",
    "plt.ylabel(\"Ratio\")"
   ]
  },
  {
   "cell_type": "markdown",
   "metadata": {},
   "source": [
    "**Crime Frequency Conclusion**\n",
    "\n",
    "---\n",
    "So, according to this, the top three neighborhoods in Pittsburgh to live in when looking at relative safety are Central Northside, Swisshelm Park, and New Homestead."
   ]
  },
  {
   "cell_type": "markdown",
   "metadata": {},
   "source": [
    "---"
   ]
  },
  {
   "cell_type": "markdown",
   "metadata": {},
   "source": [
    "## Environment/Accessibility: Parks\n",
    "---"
   ]
  },
  {
   "cell_type": "markdown",
   "metadata": {},
   "source": [
    "** parks introduction goes here"
   ]
  },
  {
   "cell_type": "markdown",
   "metadata": {},
   "source": [
    "### Parks Analysis\n",
    "\n",
    "---"
   ]
  },
  {
   "cell_type": "markdown",
   "metadata": {},
   "source": [
    "# **Conclusion**\n",
    "---"
   ]
  },
  {
   "cell_type": "markdown",
   "metadata": {},
   "source": [
    "** The neighborhood that was seen the most and performed best across all 3 metrics was"
   ]
  },
  {
   "cell_type": "code",
   "execution_count": null,
   "metadata": {},
   "outputs": [],
   "source": []
  }
 ],
 "metadata": {
  "kernelspec": {
   "display_name": "Python 3",
   "language": "python",
   "name": "python3"
  },
  "language_info": {
   "codemirror_mode": {
    "name": "ipython",
    "version": 3
   },
   "file_extension": ".py",
   "mimetype": "text/x-python",
   "name": "python",
   "nbconvert_exporter": "python",
   "pygments_lexer": "ipython3",
   "version": "3.8.3"
  }
 },
 "nbformat": 4,
 "nbformat_minor": 4
}
